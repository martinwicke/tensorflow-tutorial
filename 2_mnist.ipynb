{
 "cells": [
  {
   "cell_type": "code",
   "execution_count": null,
   "metadata": {
    "collapsed": true
   },
   "outputs": [],
   "source": [
    "import numpy as np\n",
    "import tensorflow as tf\n",
    "learn = tf.contrib.learn\n",
    "tf.logging.set_verbosity(tf.logging.INFO)"
   ]
  },
  {
   "cell_type": "code",
   "execution_count": null,
   "metadata": {
    "collapsed": true
   },
   "outputs": [],
   "source": [
    "mnist = learn.datasets.load_dataset('mnist')\n",
    "data = mnist.train.images\n",
    "labels = np.asarray(mnist.train.labels, dtype=np.int32)\n",
    "eval_data = mnist.test.images\n",
    "eval_labels = np.asarray(mnist.test.labels, dtype=np.int32)"
   ]
  },
  {
   "cell_type": "code",
   "execution_count": null,
   "metadata": {
    "collapsed": false
   },
   "outputs": [],
   "source": [
    "feature_columns = learn.infer_real_valued_columns_from_input(data)\n",
    "classifier = learn.LinearClassifier(feature_columns=feature_columns, n_classes=10)\n",
    "classifier.fit(data, labels, batch_size=100, steps=1000)\n",
    "classifier.evaluate(eval_data, eval_labels)"
   ]
  },
  {
   "cell_type": "code",
   "execution_count": null,
   "metadata": {
    "collapsed": true
   },
   "outputs": [],
   "source": [
    "def conv_model(x, is_training):\n",
    "    # Reshape X to 4-D tensor: [batch, width, height, channels]\n",
    "    x = tf.reshape(x, [-1, 28, 28, 1])\n",
    "    # first conv layer will compute 32 features for each 5x5 patch\n",
    "    h_conv1 = tf.contrib.layers.conv2d(x, num_outputs=32, kernel_size=[5, 5])\n",
    "    h_pool1 = tf.contrib.layers.max_pool2d(h_conv1, [2, 2], padding='SAME')\n",
    "    h_conv2 = tf.contrib.layers.conv2d(h_pool1, num_outputs=64,\n",
    "                                       kernel_size=[5, 5])\n",
    "    h_pool2 = tf.contrib.layers.max_pool2d(h_conv2, [2, 2], padding='SAME')\n",
    "    # Reshape tensor into a batch of vectors\n",
    "    h_pool2_flat = tf.reshape(h_pool2, [-1, 7 * 7 * 64])\n",
    "    # Densely connected layer with 1024 neurons\n",
    "    h_fcl = tf.contrib.layers.relu(h_pool2_flat, 1024)\n",
    "    h_dropout = tf.contrib.layers.dropout(\n",
    "        h_fcl, keep_prob=0.5, is_training=is_training)\n",
    "    # Logits\n",
    "    logits = tf.contrib.layers.linear(h_dropout, 10)\n",
    "    return logits  "
   ]
  },
  {
   "cell_type": "code",
   "execution_count": null,
   "metadata": {
    "collapsed": true
   },
   "outputs": [],
   "source": [
    "def model_fn(x, y, mode):\n",
    "    logits = conv_model(x, mode == tf.contrib.learn.ModeKeys.TRAIN)\n",
    "    if mode != tf.contrib.learn.ModeKeys.INFER:\n",
    "        loss = tf.contrib.losses.softmax_cross_entropy(logits, y)\n",
    "        if mode == tf.contrib.learn.ModeKeys.TRAIN:\n",
    "            train_op = tf.contrib.layers.optimize_loss(loss,\n",
    "                                                       tf.contrib.framework.get_global_step(),\n",
    "                                                       0.001, 'SGD')\n",
    "    return logits, loss, train_op"
   ]
  },
  {
   "cell_type": "code",
   "execution_count": null,
   "metadata": {
    "collapsed": false
   },
   "outputs": [],
   "source": [
    "classifier = learn.Classifier(model_fn=model_fn, n_classes=10)\n",
    "classifier.fit(data, labels, batch_size=100, steps=20000)\n",
    "classifier.evaluate(eval_data, eval_labels)"
   ]
  },
  {
   "cell_type": "code",
   "execution_count": null,
   "metadata": {
    "collapsed": true
   },
   "outputs": [],
   "source": []
  }
 ],
 "metadata": {
  "kernelspec": {
   "display_name": "Python 2",
   "language": "python",
   "name": "python2"
  },
  "language_info": {
   "codemirror_mode": {
    "name": "ipython",
    "version": 2
   },
   "file_extension": ".py",
   "mimetype": "text/x-python",
   "name": "python",
   "nbconvert_exporter": "python",
   "pygments_lexer": "ipython2",
   "version": "2.7.6"
  }
 },
 "nbformat": 4,
 "nbformat_minor": 0
}
